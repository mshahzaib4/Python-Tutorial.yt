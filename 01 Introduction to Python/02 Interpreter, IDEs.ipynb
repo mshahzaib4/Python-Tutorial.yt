{
 "cells": [
  {
   "cell_type": "markdown",
   "metadata": {},
   "source": [
    "\n",
    "\n",
    "# Setting up Python Environment (Interpreter, IDEs)\n",
    "\n",
    "## Install Python:\n",
    "1. Download and install Python from the [official website](https://www.python.org/). Choose the version that fits your needs (Python 3.x recommended).\n",
    "\n",
    "## Verify Installation:\n",
    "- Open a terminal or command prompt.\n",
    "- Type `python --version` or `python3 --version` to check if Python is installed and which version is running.\n",
    "\n",
    "## Text Editors and IDEs:\n",
    "- **Text Editors:** Simple text editors like Notepad++ (Windows), Sublime Text, Atom, or VS Code are lightweight options for editing Python code.\n",
    "- **Integrated Development Environments (IDEs):** IDEs provide advanced features like code completion, debugging, and project management. Some popular choices are:\n",
    "  - PyCharm\n",
    "  - Visual Studio Code with Python extensions\n",
    "  - Spyder\n",
    "  - Jupyter Notebook\n",
    "\n",
    "---\n",
    "\n",
    "# Running Python Scripts\n",
    "\n",
    "## Interactive Shell:\n",
    "1. Open a terminal or command prompt.\n",
    "2. Type `python` or `python3` to enter the Python shell.\n",
    "3. You can type Python code directly into the shell, and it will execute immediately.\n",
    "\n",
    "## Running a Script:\n",
    "1. Write your Python code in a `.py` file using a text editor or an IDE.\n",
    "2. Open a terminal or command prompt.\n",
    "3. Navigate to the directory where your script is saved.\n",
    "4. Type `python script_name.py` or `python3 script_name.py` to run the script.\n",
    "\n",
    "## Using an IDE:\n",
    "1. In an IDE like PyCharm or VS Code, open your Python script.\n",
    "2. Click the \"Run\" button or use the keyboard shortcut to execute the script.\n"
   ]
  }
 ],
 "metadata": {
  "language_info": {
   "name": "python"
  }
 },
 "nbformat": 4,
 "nbformat_minor": 2
}
