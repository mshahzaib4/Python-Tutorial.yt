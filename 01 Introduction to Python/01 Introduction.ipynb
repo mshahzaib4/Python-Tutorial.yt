{
 "cells": [
  {
   "cell_type": "markdown",
   "metadata": {},
   "source": [
    "<div style=\"text-align: center; font-family: 'Times New Roman', Times, serif; background-color: #f5f5f5; padding: 20px; border-radius: 10px; box-shadow: 0 0 10px rgba(0, 0, 0, 0.1);\">\n",
    "\n",
    "  <h1 style=\"color: #333; text-decoration: underline;\">Python</h1>\n",
    "  <div style=\"font-style: italic; margin-top: 10px; color: #555;\">Notebook Author: Shahzaib Yaqoob</div>\n",
    "  <div style=\"font-weight: bold; margin-top: 5px; color: #555;\">Gmail: shahzaibmalik0448@gmail.com</div>\n",
    "  <!-- Social Media Links -->\n",
    "  <div style=\"margin-top: 20px;\">\n",
    "    <a href=\"https://github.com/mshahzaib4/mshahzaib4/blob/main/README.md\" style=\"color: #555; margin-right: 20px;\">GitHub</a>\n",
    "    <a href=\"https://www.linkedin.com/in/shahzaib-malik-8b16202b1/\" style=\"color: #555;\">LinkedIn</a>\n",
    "  </div>\n",
    "\n",
    "  <!-- Additional Styling -->\n",
    "  <style>\n",
    "    /* Add your additional styling here */\n",
    "    a:hover {\n",
    "      text-decoration: underline;\n",
    "    }\n",
    "  </style>\n",
    "\n",
    "  <!-- Footer -->\n",
    "  <div style=\"margin-top: 20px; color: #555;\">\n",
    "    &copy; 2023 Shahzaib Yaqoob. All rights reserved.\n",
    "  </div>\n",
    "\n",
    "  <!-- Portfolio Project Section -->\n",
    "  <h2 style=\"margin-top: 30px; color: #333;\">Introduction to Python Programming Language</h2>\n",
    "  \n",
    "</div>\n"
   ]
  },
  {
   "cell_type": "markdown",
   "metadata": {},
   "source": [
    "# Python Programming Language\n",
    "\n",
    "Python has become one of the most popular programming languages in the world due to its versatility and ease of use.\n",
    "\n",
    "## Features of Python:\n",
    "- **Easy to Read and Write:** Python emphasizes code readability and uses indentation to define code blocks, making it easy to understand even for beginners.\n",
    "  \n",
    "- **Versatile:** Python can be used for a wide range of applications, including:\n",
    "  - Web Development\n",
    "  - Data Analysis\n",
    "  - Artificial Intelligence\n",
    "  - Machine Learning\n",
    "  - Scientific Computing\n",
    "  - Automation, and more.\n",
    "  \n",
    "- **Interpreted Language:** Python code is executed line by line, making it easy to test code snippets and debug programs.\n",
    "\n",
    "## Common Uses of Python:\n",
    "- **Web Development:** Python can be used to create dynamic web applications using frameworks such as Django and Flask.\n",
    "  \n",
    "- **Data Analysis and Visualization:** Python is widely used in data science for tasks like data cleaning, analysis, and visualization using libraries like Pandas, NumPy, and Matplotlib.\n",
    "  \n",
    "- **Artificial Intelligence and Machine Learning:** Python is the language of choice for building and training machine learning models due to libraries like TensorFlow, PyTorch, and scikit-learn.\n",
    "  \n",
    "- **Scripting and Automation:** Python's simplicity and readability make it ideal for writing scripts to automate repetitive tasks, such as:\n",
    "  - File Manipulation\n",
    "  - System Administration\n",
    "  - Testing\n"
   ]
  },
  {
   "cell_type": "markdown",
   "metadata": {},
   "source": [
    "---"
   ]
  },
  {
   "cell_type": "markdown",
   "metadata": {},
   "source": [
    "# History and Features of Python:\n",
    "History: Python was conceived in the late 1980s and its implementation began in December 1989 by Guido van Rossum at Centrum Wiskunde & Informatica (CWI) in the Netherlands. The language was officially released in 1991 as Python 0.9.0. "
   ]
  },
  {
   "cell_type": "markdown",
   "metadata": {},
   "source": [
    "# Python 2 vs Python 3\n",
    "\n",
    "Python 2 and Python 3 are two major versions of the Python programming language. Python 3 was introduced as a significant, non-backward-compatible upgrade to the language to address some design flaws and add new features. Some of the key differences include:\n",
    "\n",
    "## Print Statement:\n",
    "- **Python 2:** `print` is a statement (`print \"Hello\"`).\n",
    "- **Python 3:** `print` is a function (`print(\"Hello\")`).\n",
    "\n",
    "## Division:\n",
    "- **Python 2:** Dividing two integers can result in another integer (e.g., `5/2` results in `2`).\n",
    "- **Python 3:** Division always results in a float (e.g., `5/2` results in `2.5`).\n",
    "\n",
    "## Unicode Support:\n",
    "- **Python 3:** Handles strings as Unicode by default.\n",
    "- **Python 2:** Treats strings as ASCII by default.\n",
    "\n",
    "## Syntax:\n",
    "- Python 3 introduced some syntactic changes, such as:\n",
    "  - Function annotations\n",
    "  - Extended unpacking\n",
    "  - and more...\n",
    "\n",
    "As of January 1, 2020, Python 2 reached its end of life (EOL), meaning it no longer receives updates, including security patches. New projects are strongly encouraged to use Python 3.\n"
   ]
  }
 ],
 "metadata": {
  "language_info": {
   "name": "python"
  }
 },
 "nbformat": 4,
 "nbformat_minor": 2
}
