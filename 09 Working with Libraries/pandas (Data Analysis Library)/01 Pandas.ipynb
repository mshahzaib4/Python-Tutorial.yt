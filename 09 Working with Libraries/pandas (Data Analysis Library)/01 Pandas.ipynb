{
 "cells": [
  {
   "cell_type": "markdown",
   "metadata": {},
   "source": [
    "---\n",
    "<div style=\"text-align: center; font-family: 'Times New Roman', Times, serif;\">\n",
    " <h1>Pandas</h1>\n",
    "</div\n",
    ">\n",
    "\n",
    "<div id=\"badges\" style=\"text-align: center; background-color: #333; padding: 10px; margin-bottom: 10px;\">\n",
    "    <a href=\"https://www.linkedin.com/feed/?trk=404_page\" target=\"_blank\" rel=\"noopener noreferrer\">\n",
    "        <img src=\"https://img.shields.io/badge/LinkedIn-0077B5?style=for-the-badge&logo=linkedin&logoColor=white\" alt=\"LinkedIn Badge\"/>\n",
    "    </a>\n",
    "</div>\n",
    "\n",
    "\n",
    "<div id=\"badges\" style=\"text-align: center; background-color: #333; padding: 10px; margin-bottom: 10px;\">\n",
    "    <a href=\"https://github.com/mshahzaib4/mshahzaib4\" target=\"_blank\" rel=\"noopener noreferrer\">\n",
    "        <img src=\"https://img.shields.io/badge/GitHub-181717?style=for-the-badge&logo=github&logoColor=white\" alt=\"GitHub Badge\"/>\n",
    "    </a>\n",
    "</div>\n",
    "\n",
    "<div id=\"badges\" style=\"text-align: center; background-color: #333; padding: 10px; margin-bottom: 10px;\">\n",
    "    <a href=\"https://www.kaggle.com/shahzaibmalik44\" target=\"_blank\" rel=\"noopener noreferrer\">\n",
    "        <img src=\"https://img.shields.io/badge/Kaggle-20BEFF?style=for-the-badge&logo=kaggle&logoColor=white\" alt=\"Kaggle Badge\"/>\n",
    "    </a>\n",
    "</div>\n",
    "\n",
    "<p style=\"font-size: 20px;font-family:newtimeroman; color:; text-align: center; margin-left: 10px;\">Notebook Author: Muhammad Shahzaib Yaqoob \n",
    " <p>\n",
    " \n",
    "---"
   ]
  },
  {
   "cell_type": "markdown",
   "metadata": {},
   "source": [
    "\n",
    "### Pandas in Python\n",
    "Pandas is a powerful open-source Python library used for data manipulation and analysis. It consists of data structures and functions for efficient operations on data, including analyzing, cleaning, exploring, and manipulating data.\n",
    "\n",
    "#### Data Structures\n",
    "- `Series:` A one-dimensional labeled array capable of holding any data type.\n",
    "- `DataFrame:` A two-dimensional labeled data structure with columns of potentially different types.\n",
    "\n",
    "#### Key Operations\n",
    "- `Reading Data:` Pandas can read data from different sources such as CSV, Excel, SQL databases, etc.\n",
    "- `Indexing and Selection:` It enables selecting subsets of data using labels or integer-based indexing.\n",
    "- `Data Cleaning:` Pandas offers methods for managing missing data, eliminating duplicates, and transforming data.\n",
    "- `Aggregation:` It supports various aggregation functions like mean, median, sum, etc.\n",
    "- `Merging and Joining:` Pandas can merge and join datasets based on one or more keys.\n",
    "- `Grouping:` It allows dividing data into groups based on certain criteria and then applying functions to each group independently.\n",
    "- `Visualization:` Pandas integrates with Matplotlib and other visualization libraries for data visualization.\n"
   ]
  },
  {
   "cell_type": "code",
   "execution_count": 1,
   "metadata": {},
   "outputs": [
    {
     "name": "stdout",
     "output_type": "stream",
     "text": [
      "          0\n",
      "0  Muhammad\n",
      "1  Shahzaib\n",
      "2    Yaqoob\n",
      "3    Zohaib\n",
      "4    Rehman\n",
      "5   Zeeshan\n",
      "6  Abdullah\n"
     ]
    }
   ],
   "source": [
    "# import pandas as pd\n",
    "import pandas as pd\n",
    " \n",
    "# list of strings\n",
    "lst = ['Muhammad', 'Shahzaib', 'Yaqoob', 'Zohaib', \n",
    "            'Rehman', 'Zeeshan', 'Abdullah']\n",
    " \n",
    "# Calling DataFrame constructor on list\n",
    "df = pd.DataFrame(lst)\n",
    "print(df)"
   ]
  },
  {
   "cell_type": "code",
   "execution_count": 7,
   "metadata": {},
   "outputs": [
    {
     "name": "stdout",
     "output_type": "stream",
     "text": [
      "              Name  Age     City\n",
      "0  Shahzaib Yaqoob   20  Narowal\n",
      "1           Zohaib   21  Narowal\n",
      "2           Rehman   19      Nwl\n",
      "3          Zeeshan   18      Nwl\n",
      "4         Abdullah   19      Nwl\n"
     ]
    }
   ],
   "source": [
    "data = {'Name':['Shahzaib Yaqoob', 'Zohaib', \n",
    "            'Rehman', 'Zeeshan', 'Abdullah'],\n",
    "        'Age':[20, 21, 19, 18,19],\n",
    "        'City':[\"Narowal\",\"Narowal\",\"Nwl\",\"Nwl\",\"Nwl\"]\n",
    "        }\n",
    " \n",
    "# Create DataFrame\n",
    "df = pd.DataFrame(data)\n",
    " \n",
    "# Print the output.\n",
    "print(df)\n",
    "\n",
    "df.to_csv('Dataset/Dataset.csv', index=False)\n"
   ]
  },
  {
   "cell_type": "markdown",
   "metadata": {},
   "source": [
    "## Selecting Row"
   ]
  },
  {
   "cell_type": "markdown",
   "metadata": {},
   "source": [
    "The `DataFrame.loc[]` method is used to retrieve rows from a DataFrame."
   ]
  },
  {
   "cell_type": "code",
   "execution_count": 19,
   "metadata": {},
   "outputs": [
    {
     "name": "stdout",
     "output_type": "stream",
     "text": [
      "\n",
      "First Row: Name    Shahzaib Yaqoob\n",
      "Age                  20\n",
      "City            Narowal\n",
      "Name: 0, dtype: object\n",
      "\n",
      "--------------------------\n",
      "\n",
      "Second Row: Name     Zohaib\n",
      "Age          21\n",
      "City    Narowal\n",
      "Name: 1, dtype: object\n"
     ]
    }
   ],
   "source": [
    "data = pd.read_csv(\"Dataset/Dataset.csv\")\n",
    "\n",
    "# Retrieving the row with index label 0\n",
    "first_row = data.loc[0]\n",
    "\n",
    "# Retrieving the row with index label 1\n",
    "second_row = data.loc[1]\n",
    "\n",
    "print(\"\\nFirst Row:\", first_row,end=\"\\n\\n--------------------------\\n\")\n",
    "print(\"\\nSecond Row:\", second_row)"
   ]
  },
  {
   "cell_type": "markdown",
   "metadata": {},
   "source": [
    "## Selecting Columns"
   ]
  },
  {
   "cell_type": "code",
   "execution_count": 24,
   "metadata": {},
   "outputs": [
    {
     "name": "stdout",
     "output_type": "stream",
     "text": [
      "Selected Column (Name)\n",
      " 0    Shahzaib Yaqoob\n",
      "1             Zohaib\n",
      "2             Rehman\n",
      "3            Zeeshan\n",
      "4           Abdullah\n",
      "Name: Name, dtype: object\n"
     ]
    }
   ],
   "source": [
    "data = pd.read_csv(\"Dataset/Dataset.csv\")\n",
    "\n",
    "name_column = data[\"Name\"]\n",
    "\n",
    "print(\"Selected Column (Name)\\n\", name_column)"
   ]
  }
 ],
 "metadata": {
  "kernelspec": {
   "display_name": "Python_ML",
   "language": "python",
   "name": "python3"
  },
  "language_info": {
   "codemirror_mode": {
    "name": "ipython",
    "version": 3
   },
   "file_extension": ".py",
   "mimetype": "text/x-python",
   "name": "python",
   "nbconvert_exporter": "python",
   "pygments_lexer": "ipython3",
   "version": "3.12.0"
  }
 },
 "nbformat": 4,
 "nbformat_minor": 2
}
