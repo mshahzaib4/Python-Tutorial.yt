{
 "cells": [
  {
   "cell_type": "markdown",
   "metadata": {},
   "source": [
    "---\n",
    "<div style=\"text-align: center; font-family: 'Times New Roman', Times, serif;\">\n",
    " <h1>Numpy</h1>\n",
    "</div\n",
    ">\n",
    "\n",
    "<div id=\"badges\" style=\"text-align: center; background-color: #333; padding: 10px; margin-bottom: 10px;\">\n",
    "    <a href=\"https://www.linkedin.com/feed/?trk=404_page\" target=\"_blank\" rel=\"noopener noreferrer\">\n",
    "        <img src=\"https://img.shields.io/badge/LinkedIn-0077B5?style=for-the-badge&logo=linkedin&logoColor=white\" alt=\"LinkedIn Badge\"/>\n",
    "    </a>\n",
    "</div>\n",
    "\n",
    "\n",
    "<div id=\"badges\" style=\"text-align: center; background-color: #333; padding: 10px; margin-bottom: 10px;\">\n",
    "    <a href=\"https://github.com/mshahzaib4/mshahzaib4\" target=\"_blank\" rel=\"noopener noreferrer\">\n",
    "        <img src=\"https://img.shields.io/badge/GitHub-181717?style=for-the-badge&logo=github&logoColor=white\" alt=\"GitHub Badge\"/>\n",
    "    </a>\n",
    "</div>\n",
    "\n",
    "<div id=\"badges\" style=\"text-align: center; background-color: #333; padding: 10px; margin-bottom: 10px;\">\n",
    "    <a href=\"https://www.kaggle.com/shahzaibmalik44\" target=\"_blank\" rel=\"noopener noreferrer\">\n",
    "        <img src=\"https://img.shields.io/badge/Kaggle-20BEFF?style=for-the-badge&logo=kaggle&logoColor=white\" alt=\"Kaggle Badge\"/>\n",
    "    </a>\n",
    "</div>\n",
    "\n",
    "<p style=\"font-size: 20px;font-family:newtimeroman; color:; text-align: center; margin-left: 10px;\">Notebook Author: Muhammad Shahzaib Yaqoob \n",
    " <p>\n",
    " \n",
    "---"
   ]
  },
  {
   "cell_type": "markdown",
   "metadata": {},
   "source": [
    "## NumPy Array Creation Functions\n",
    "\n",
    "This section covers several NumPy functions for creating arrays:\n",
    "\n",
    "- **`np.array()`**: Create an array from a Python list or iterable.\n",
    "\n",
    "- **`np.zeros()`**: Create an array filled with zeros.\n",
    "\n",
    "- **`np.ones()`**: Create an array filled with ones.\n",
    "\n",
    "- **`np.empty()`**: Create an array without initializing its values.\n"
   ]
  },
  {
   "cell_type": "code",
   "execution_count": null,
   "metadata": {},
   "outputs": [],
   "source": [
    "import numpy as np"
   ]
  },
  {
   "cell_type": "code",
   "execution_count": null,
   "metadata": {},
   "outputs": [],
   "source": [
    "# np.array()\n",
    "print(\"Array        :\",np.array([1,2,3,4,5,6]))\n",
    "\n",
    "# np.zeros()\n",
    "print(\"np.zeros(6)  : \",np.zeros(6))\n",
    "\n",
    "# np.ones()\n",
    "print(\"np.ones(6)   : \",np.ones(6))\n",
    "\n",
    "# np.empty()\n",
    "print(\"np.empty()   : \",np.empty(2)) \n"
   ]
  },
  {
   "cell_type": "markdown",
   "metadata": {},
   "source": [
    "## Sorting ,Adding, and Removing\n",
    "\n",
    "This section covers some useful NumPy functions for adding, removing, and sorting elements in arrays.\n",
    "\n",
    "- **`np.sort()`**: Sort the elements of an array along a specified axis. You can customize the sorting behavior by specifying parameters such as the axis, kind, and order.\n",
    "\n",
    "- **`np.concatenate()`**: Concatenation is like combining or joining multiple arrays together. It's like putting them side by side. The np.concatenate() function helps to do this in Python..\n"
   ]
  },
  {
   "cell_type": "code",
   "execution_count": null,
   "metadata": {},
   "outputs": [],
   "source": [
    "#np.sort()\n",
    "array_to_sort = np.array([3, 1, 4, 1, 5, 9, 2, 6, 5, 3, 5])\n",
    "sorted_array = np.sort(array_to_sort)\n",
    "print(\"Original Array:\", array_to_sort)\n",
    "print(\"----------------------------------------\")\n",
    "print(\"Sorted Array:\", sorted_array)"
   ]
  },
  {
   "cell_type": "code",
   "execution_count": null,
   "metadata": {},
   "outputs": [],
   "source": [
    "#np.concatenated Array\n",
    "array1 = np.array([1, 2, 3])\n",
    "array2 = np.array([4, 5, 6])\n",
    "concatenated_array = np.concatenate((array1, array2))\n",
    "print(\"Array 1 : \", array1)\n",
    "print(\"Array 2 : \", array2)\n",
    "print(\"----------------------------------------\")\n",
    "print(\"Concatenated Array : \", concatenated_array)"
   ]
  }
 ],
 "metadata": {
  "language_info": {
   "name": "python"
  }
 },
 "nbformat": 4,
 "nbformat_minor": 2
}
