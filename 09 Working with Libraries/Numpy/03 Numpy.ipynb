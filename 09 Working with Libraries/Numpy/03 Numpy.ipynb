{
 "cells": [
  {
   "cell_type": "markdown",
   "metadata": {},
   "source": [
    "---\n",
    "<div style=\"text-align: center; font-family: 'Times New Roman', Times, serif;\">\n",
    " <h1>Numpy</h1>\n",
    "</div\n",
    ">\n",
    "\n",
    "<div id=\"badges\" style=\"text-align: center; background-color: #333; padding: 10px; margin-bottom: 10px;\">\n",
    "    <a href=\"https://www.linkedin.com/feed/?trk=404_page\" target=\"_blank\" rel=\"noopener noreferrer\">\n",
    "        <img src=\"https://img.shields.io/badge/LinkedIn-0077B5?style=for-the-badge&logo=linkedin&logoColor=white\" alt=\"LinkedIn Badge\"/>\n",
    "    </a>\n",
    "</div>\n",
    "\n",
    "\n",
    "<div id=\"badges\" style=\"text-align: center; background-color: #333; padding: 10px; margin-bottom: 10px;\">\n",
    "    <a href=\"https://github.com/mshahzaib4/mshahzaib4\" target=\"_blank\" rel=\"noopener noreferrer\">\n",
    "        <img src=\"https://img.shields.io/badge/GitHub-181717?style=for-the-badge&logo=github&logoColor=white\" alt=\"GitHub Badge\"/>\n",
    "    </a>\n",
    "</div>\n",
    "\n",
    "<div id=\"badges\" style=\"text-align: center; background-color: #333; padding: 10px; margin-bottom: 10px;\">\n",
    "    <a href=\"https://www.kaggle.com/shahzaibmalik44\" target=\"_blank\" rel=\"noopener noreferrer\">\n",
    "        <img src=\"https://img.shields.io/badge/Kaggle-20BEFF?style=for-the-badge&logo=kaggle&logoColor=white\" alt=\"Kaggle Badge\"/>\n",
    "    </a>\n",
    "</div>\n",
    "\n",
    "<p style=\"font-size: 20px;font-family:newtimeroman; color:; text-align: center; margin-left: 10px;\">Notebook Author: Muhammad Shahzaib Yaqoob \n",
    " <p>\n",
    " \n",
    "---"
   ]
  },
  {
   "cell_type": "markdown",
   "metadata": {},
   "source": [
    "## Reshaping Arrays\n",
    "\n",
    "You can change the dimensions of an array while keeping the same total number of elements by reshaping it.NumPy provides the `reshape()` function for this purpose.\n",
    "\n",
    "### `np.reshape()`\n",
    "\n",
    "The `np.reshape()` function is used to change the shape of an array without changing its data\n"
   ]
  },
  {
   "cell_type": "code",
   "execution_count": null,
   "metadata": {},
   "outputs": [],
   "source": [
    "reshaped_array = np.reshape(original_array, newshape=(2, 3), order='C')\n",
    "\n",
    "print(\"Original Array:\")\n",
    "print(original_array)\n",
    "\n",
    "print(\"Reshaped Array:\")\n",
    "print(reshaped_array)"
   ]
  }
 ],
 "metadata": {
  "language_info": {
   "name": "python"
  }
 },
 "nbformat": 4,
 "nbformat_minor": 2
}
