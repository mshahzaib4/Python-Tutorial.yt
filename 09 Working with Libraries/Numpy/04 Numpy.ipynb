{
 "cells": [
  {
   "cell_type": "markdown",
   "metadata": {},
   "source": [
    "---\n",
    "<div style=\"text-align: center; font-family: 'Times New Roman', Times, serif;\">\n",
    " <h1>Numpy</h1>\n",
    "</div\n",
    ">\n",
    "\n",
    "<div id=\"badges\" style=\"text-align: center; background-color: #333; padding: 10px; margin-bottom: 10px;\">\n",
    "    <a href=\"https://www.linkedin.com/feed/?trk=404_page\" target=\"_blank\" rel=\"noopener noreferrer\">\n",
    "        <img src=\"https://img.shields.io/badge/LinkedIn-0077B5?style=for-the-badge&logo=linkedin&logoColor=white\" alt=\"LinkedIn Badge\"/>\n",
    "    </a>\n",
    "</div>\n",
    "\n",
    "\n",
    "<div id=\"badges\" style=\"text-align: center; background-color: #333; padding: 10px; margin-bottom: 10px;\">\n",
    "    <a href=\"https://github.com/mshahzaib4/mshahzaib4\" target=\"_blank\" rel=\"noopener noreferrer\">\n",
    "        <img src=\"https://img.shields.io/badge/GitHub-181717?style=for-the-badge&logo=github&logoColor=white\" alt=\"GitHub Badge\"/>\n",
    "    </a>\n",
    "</div>\n",
    "\n",
    "<div id=\"badges\" style=\"text-align: center; background-color: #333; padding: 10px; margin-bottom: 10px;\">\n",
    "    <a href=\"https://www.kaggle.com/shahzaibmalik44\" target=\"_blank\" rel=\"noopener noreferrer\">\n",
    "        <img src=\"https://img.shields.io/badge/Kaggle-20BEFF?style=for-the-badge&logo=kaggle&logoColor=white\" alt=\"Kaggle Badge\"/>\n",
    "    </a>\n",
    "</div>\n",
    "\n",
    "<p style=\"font-size: 20px;font-family:newtimeroman; color:; text-align: center; margin-left: 10px;\">Notebook Author: Muhammad Shahzaib Yaqoob \n",
    " <p>\n",
    " \n",
    "---"
   ]
  },
  {
   "cell_type": "markdown",
   "metadata": {},
   "source": [
    "# Basic Array Operations\n",
    "\n",
    "In NumPy, arrays allow for a variety of mathematical operations. \n",
    "\n",
    "Here are some basic array operations:\n",
    "\n",
    "- `Addition`\n",
    "- `Subtraction`\n",
    "- `Multiplication`\n",
    "- `Division`\n"
   ]
  },
  {
   "cell_type": "code",
   "execution_count": null,
   "metadata": {},
   "outputs": [],
   "source": [
    "array1 = np.array([[1, 2, 3],\n",
    "                   [4, 5, 6]])\n",
    "\n",
    "array2 = np.array([[7, 8, 9],\n",
    "                   [10, 11, 12]])\n",
    "# Addition\n",
    "result_add = array1 + array2\n",
    "# Substraction\n",
    "result_sub = array1 - array2\n",
    "# Multiplaction\n",
    "result_mull = array1 * array2\n",
    "# Division\n",
    "result_div = array1 / array2\n",
    "\n",
    "print(\": Addation : \\n\",result_add ,\"\\n\")\n",
    "print(\": Substraction : \\n\",result_sub,\"\\n\")\n",
    "print(\": Multiplaction : \\n\",result_mull,\"\\n\")\n",
    "print(\": Division : \\n\",result_div,\"\\n\")"
   ]
  }
 ],
 "metadata": {
  "language_info": {
   "name": "python"
  }
 },
 "nbformat": 4,
 "nbformat_minor": 2
}
