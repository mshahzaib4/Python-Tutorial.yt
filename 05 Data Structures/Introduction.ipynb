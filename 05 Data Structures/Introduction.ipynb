{
 "cells": [
  {
   "cell_type": "markdown",
   "metadata": {},
   "source": [
    "## **Lists**\n",
    "A Python list is a collection of changeable items of different types.\n",
    "\n",
    "```python\n",
    "my_list = [1, 2, 3, 4, 5]\n",
    "```\n",
    "\n",
    "## **Indexing and Slicing**\n",
    "- **Indexing**: Indexing in Python starts at 0. Access list elements by their position.\n",
    "  ```python\n",
    "  first_element = my_list[0]  # Accessing the first element\n",
    "  ```\n",
    "- **Slicing**: Getting a subset of elements from the list.\n",
    "  ```python\n",
    "  subset = my_list[1:4]  # Gets elements from index 1 to 3\n",
    "  ```\n",
    "\n",
    "## **List Methods**\n",
    "Python lists have various built-in methods for common operations, including adding, removing, and modifying elements.\n",
    "- `append()`, `extend()`, `insert()`: Adding elements\n",
    "- `remove()`, `pop()`, `clear()`: Removing elements\n",
    "- `index()`, `count()`, `sort()`, `reverse()`: Other useful methods\n",
    "\n",
    "## **Tuples**\n",
    "Tuples are similar to lists, but they are immutable, meaning they cannot be changed after creation.\n",
    "```python\n",
    "my_tuple = (1, 2, 3)\n",
    "```\n",
    "\n",
    "## **Dictionaries**\n",
    "Dictionaries consist of unique keys and their associated values.\n",
    "```python\n",
    "my_dict = {'name': 'Alice', 'age': 30, 'city': 'New York'}\n",
    "```\n",
    "\n",
    "#### **Dictionary Methods**\n",
    "Dictionaries also have various methods for adding, removing, and modifying elements:\n",
    "- `keys()`, `values()`, `items()`: Getting keys, values, or key-value pairs\n",
    "- `get()`, `pop()`, `update()`: Retrieving, removing, and updating elements\n",
    "\n",
    "## **Sets**\n",
    "Sets are collections of unique elements that are unordered and mutable, but do not contain duplicates.\n",
    "```python\n",
    "my_set = {1, 2, 3, 4, 5}\n",
    "```\n",
    "\n",
    "#### **Set Operations**\n",
    "Sets can be used to perform a variety of operations, such as union, intersection, and difference, among others.\n",
    "- `union()`, `intersection()`, `difference()`: Set operations\n",
    "- `add()`, `remove()`, `discard()`: Adding and removing elements\n",
    "\n"
   ]
  }
 ],
 "metadata": {
  "language_info": {
   "name": "python"
  }
 },
 "nbformat": 4,
 "nbformat_minor": 2
}
