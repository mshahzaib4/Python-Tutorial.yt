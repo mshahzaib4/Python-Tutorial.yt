{
 "cells": [
  {
   "cell_type": "markdown",
   "metadata": {},
   "source": []
  },
  {
   "cell_type": "markdown",
   "metadata": {},
   "source": [
    "# **Object-oriented programming (OOP)**"
   ]
  },
  {
   "cell_type": "markdown",
   "metadata": {},
   "source": [
    "Object-oriented programming (OOP) is a computer programming model that organizes software design around data, or objects, rather than functions and logic. \n",
    "\n",
    "### Key Pillars of OOP in Python\n",
    "\n",
    "# 1. **Classes**\n",
    "   - Blueprints for creating objects. \n",
    "   - They define the attributes and methods that objects of that class will have.\n",
    "\n",
    "# 2. **Objects** \n",
    "   - Instances of classes. \n",
    "   - They hold specific data values (attribute values) and can execute the defined methods.\n",
    "\n",
    "# 3. **Inheritance** \n",
    "   - A programming technique that is used to reuse an existing class to build a new class is known as inheritance. \n",
    "   - The existing class that is reused to create a new class is known as superclass, base class, or parent class. \n",
    "   - The new class inherits the properties and functions of the existing class and is known as subclass, derived class, or child class. \n",
    "   - The inheritance between the classes of a program is called a class hierarchy.\n",
    "   - Types of Inheritance:\n",
    "     1. Single Inheritance\n",
    "     2. Multi-level Inheritance\n",
    "     3. Multiple Inheritance\n",
    "     4. Hybrid Inheritance\n",
    "     5. Hierarchical Inheritance\n",
    "     \n",
    "# 4.  **Operator Overloading**\n",
    "\n",
    "   Operator overloading is the method by which we can change the function of specific operators to perform different tasks. It allows operators to perform different operations depending on the types involved. In Python, operator overloading enables the definition of how operators behave for objects of user-defined classes.\n",
    "\n",
    "### Function Overloading\n",
    "\n",
    "   In object-oriented programming, function overloading refers to having multiple functions with the same name but different parameters or implementations.\n",
    "\n",
    "### Operator Overloading\n",
    "\n",
    "   Operator overloading in Python allows for redefining the behavior of operators for user-defined types. For example, `obj3 = obj1 + obj2` calls the operator function using the `obj1` object, with `obj2` passed as an argument to the function. A binary operator works with two operands.\n",
    "\n",
    "#### Types of Operator Overloading\n",
    "\n",
    "   - Overloading unary operator\n",
    "   - Overloading binary operator\n",
    "   - Overloading comparison operator\n",
    "   - Overloading arithmetic assignment operator\n",
    "\n",
    "### Basic Operators in Python\n",
    "\n",
    "   Python allows overloading various operators, including:\n",
    "\n",
    "   - `+`, `-`, `*`, `/`, `%`, `&`, `|`, etc.\n",
    "   - `+=`, `-=`, `*=`, `/=`, `%=`, `&=`, `|=`, etc.\n",
    "\n",
    "# 5. **Encapsulation** \n",
    "   Encapsulation is the practice of hiding the implementation details of an object and providing an interface to interact with it. In Python, class-based encapsulation is achieved through the use of access modifiers such as public, private, and protected to restrict access to the class attributes and methods.\n",
    "   \n",
    "# 6. **Polymorphism** \n",
    "   Polymorphism is a combination of two words: \"Poly\" and \"Morphism\". \"Poly\" means many and \"Morphism\" means form. In object-oriented programming languages, polymorphism means that objects may behave differently in different conditions. Polymorphism uses methods to perform different tasks, allowing us to perform a single action in different ways.\n",
    "\n",
    "### Types of Polymorphism\n",
    "\n",
    "- **Function Overloading** \n",
    "- **Operator Overloading** \n"
   ]
  }
 ],
 "metadata": {
  "language_info": {
   "name": "python"
  }
 },
 "nbformat": 4,
 "nbformat_minor": 2
}
