{
 "cells": [
  {
   "cell_type": "markdown",
   "metadata": {},
   "source": []
  },
  {
   "cell_type": "markdown",
   "metadata": {},
   "source": [
    "# Python Programming Language\n",
    "\n",
    "Python has become one of the most popular programming languages in the world due to its versatility and ease of use.\n",
    "\n",
    "## Features of Python:\n",
    "- **Easy to Read and Write:** Python emphasizes code readability and uses indentation to define code blocks, making it easy to understand even for beginners.\n",
    "  \n",
    "- **Versatile:** Python can be used for a wide range of applications, including:\n",
    "  - Web Development\n",
    "  - Data Analysis\n",
    "  - Artificial Intelligence\n",
    "  - Machine Learning\n",
    "  - Scientific Computing\n",
    "  - Automation, and more.\n",
    "  \n",
    "- **Interpreted Language:** Python code is executed line by line, making it easy to test code snippets and debug programs.\n",
    "\n",
    "## Common Uses of Python:\n",
    "- **Web Development:** Python can be used to create dynamic web applications using frameworks such as Django and Flask.\n",
    "  \n",
    "- **Data Analysis and Visualization:** Python is widely used in data science for tasks like data cleaning, analysis, and visualization using libraries like Pandas, NumPy, and Matplotlib.\n",
    "  \n",
    "- **Artificial Intelligence and Machine Learning:** Python is the language of choice for building and training machine learning models due to libraries like TensorFlow, PyTorch, and scikit-learn.\n",
    "  \n",
    "- **Scripting and Automation:** Python's simplicity and readability make it ideal for writing scripts to automate repetitive tasks, such as:\n",
    "  - File Manipulation\n",
    "  - System Administration\n",
    "  - Testing\n"
   ]
  },
  {
   "cell_type": "markdown",
   "metadata": {},
   "source": [
    "---"
   ]
  },
  {
   "cell_type": "code",
   "execution_count": 1,
   "metadata": {},
   "outputs": [
    {
     "name": "stdout",
     "output_type": "stream",
     "text": [
      "Its my first program\n"
     ]
    }
   ],
   "source": [
    "print(\"Its my first program\")"
   ]
  },
  {
   "cell_type": "code",
   "execution_count": 1,
   "metadata": {},
   "outputs": [
    {
     "name": "stdout",
     "output_type": "stream",
     "text": [
      "My__________\n",
      "_____    Name\n",
      "___________   Is__________(Your Name)\n"
     ]
    }
   ],
   "source": [
    "print(\"My__________\\n_____    Name\\n___________   Is__________(Your Name)\")"
   ]
  },
  {
   "cell_type": "code",
   "execution_count": 4,
   "metadata": {},
   "outputs": [
    {
     "name": "stdout",
     "output_type": "stream",
     "text": [
      "\n",
      "\n",
      "    *\n",
      "   ***\n",
      "  *****\n",
      " *******\n",
      "*********\n",
      "*********\n",
      "*********\n",
      "***   ***\n",
      "***   ***\n",
      "***   ***\n",
      "***   ***\n"
     ]
    }
   ],
   "source": [
    "print(\"\\n\\n    *\\n   ***\\n  *****\\n *******\\n*********\\n*********\\n*********\\n***   ***\\n***   ***\\n***   ***\\n***   ***\");"
   ]
  },
  {
   "cell_type": "code",
   "execution_count": null,
   "metadata": {},
   "outputs": [
    {
     "name": "stdout",
     "output_type": "stream",
     "text": [
      ":::::::::Swape the value::::::::\n",
      "\n",
      "\n",
      "Value of first variable is: 100 And Value of second Variable is: 50\n"
     ]
    }
   ],
   "source": [
    "print(\":::::::::Swape the value::::::::\")\n",
    "\n",
    "x = 50\n",
    "y = 100\n",
    "\n",
    "z = x\n",
    "x = y\n",
    "y = z\n",
    "\n",
    "print(f\"Value of first variable is: {x} And Value of second Variable is: {y}\")\n"
   ]
  },
  {
   "cell_type": "code",
   "execution_count": 6,
   "metadata": {},
   "outputs": [],
   "source": [
    "a = int(input(\"Enter First Number: \"))\n",
    "b = int(input(\"Enter Second Number: \"))\n",
    "\n",
    "sum_result = a + b\n",
    "sub_result = a - b\n",
    "quotient_result = a / b\n",
    "remainder_result = a % b\n",
    "\n",
    "print(\"Addition: \", sum_result)\n",
    "print(\"Subtraction: \", sub_result)\n",
    "print(\"Quotient: \", quotient_result)\n",
    "print(\"Remainder: \", remainder_result)"
   ]
  }
 ],
 "metadata": {
  "kernelspec": {
   "display_name": "Python_ML",
   "language": "python",
   "name": "python3"
  },
  "language_info": {
   "codemirror_mode": {
    "name": "ipython",
    "version": 3
   },
   "file_extension": ".py",
   "mimetype": "text/x-python",
   "name": "python",
   "nbconvert_exporter": "python",
   "pygments_lexer": "ipython3",
   "version": "3.12.0"
  }
 },
 "nbformat": 4,
 "nbformat_minor": 2
}
