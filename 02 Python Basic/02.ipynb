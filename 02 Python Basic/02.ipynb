{
 "cells": [
  {
   "cell_type": "markdown",
   "metadata": {},
   "source": [
    "# Comments in Python\n",
    "\n",
    "*Comments in Python are used to explain code and make it more readable for humans. They are ignored by the Python interpreter when the code is executed.*\n",
    "- Single Line Comments\n",
    "- Multi-Line Comments:\n"
   ]
  },
  {
   "cell_type": "code",
   "execution_count": null,
   "metadata": {},
   "outputs": [],
   "source": [
    "# This is a single line comment\n",
    "print(\"Hello, World!\")  # This is also a comment\n"
   ]
  },
  {
   "cell_type": "code",
   "execution_count": null,
   "metadata": {},
   "outputs": [],
   "source": [
    "'''\n",
    "This is a multi-line\n",
    "comment in Python\n",
    "'''\n",
    "\n",
    "\"\"\"\n",
    "This is also a multi-line\n",
    "comment in Python\n",
    "\"\"\"\n"
   ]
  },
  {
   "cell_type": "markdown",
   "metadata": {},
   "source": [
    "# Type Conversion (Casting)\n",
    "*Casting, also called type conversion, is the process of converting a variable's data type to another data type.*"
   ]
  },
  {
   "cell_type": "code",
   "execution_count": null,
   "metadata": {},
   "outputs": [],
   "source": [
    "# Converts a number or string to an integer.\n",
    "\n",
    "x = int(3.5)  # x will be 3\n",
    "y = int(\"10\")  # y will be 10"
   ]
  },
  {
   "cell_type": "code",
   "execution_count": null,
   "metadata": {},
   "outputs": [],
   "source": [
    "# Converts an object into a string.\n",
    "\n",
    "x = str(10)  # x will be \"10\"\n",
    "y = str(3.14)  # y will be \"3.14\"\n"
   ]
  },
  {
   "cell_type": "code",
   "execution_count": null,
   "metadata": {},
   "outputs": [],
   "source": [
    "# Converts other data types to lists, tuples, or sets respectively.\n",
    "\n",
    "x = list(\"hello\")  # x will be ['h', 'e', 'l', 'l', 'o']\n",
    "y = tuple([1, 2, 3])  # y will be (1, 2, 3)\n",
    "z = set([1, 2, 2, 3])  # z will be {1, 2, 3}\n"
   ]
  }
 ],
 "metadata": {
  "kernelspec": {
   "display_name": "Python_ML",
   "language": "python",
   "name": "python3"
  },
  "language_info": {
   "name": "python",
   "version": "3.12.0"
  }
 },
 "nbformat": 4,
 "nbformat_minor": 2
}
