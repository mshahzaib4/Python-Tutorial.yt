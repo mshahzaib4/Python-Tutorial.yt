{
 "cells": [
  {
   "cell_type": "markdown",
   "metadata": {},
   "source": [
    "# **Function**\n",
    "\n",
    "***A function is a set of instructions that executes only when called. It can receive data, known as parameters, and return data as output.***\n",
    "\n",
    "### Types of Functions\n",
    "\n",
    "1. **Built-in Functions**\n",
    "   - Built-in functions are functions that are already defined in the programming language. These functions are readily available for use without needing to define them.\n",
    "\n",
    "   ```markdown\n",
    "   ```python\n",
    "   result = len(\"Hello, World!\")\n",
    "   ```\n",
    "\n",
    "2. **User-defined Functions**\n",
    "User-defined functions are created by programmers to perform specific tasks. They are defined using the syntax provided by the programming language.\n",
    "\n",
    "\n",
    "   ```python\n",
    "   def function_name(parameters):\n",
    "       # Function body\n",
    "       # Statements\n",
    "       return result\n",
    "   ```\n",
    "\n",
    "3. **Anonymous functions**\n",
    "\n",
    "Anonymous functions, also known as lambda functions, are functions that do not have a name. They are typically used for short, simple operations and are defined inline.\n",
    "\n",
    "   ```python\n",
    "   lambda parameters: expression\n",
    "   ```\n",
    "\n",
    "\n",
    "4. **Recursive functions**\n",
    "\n",
    "Recursive functions are functions that call themselves within their own definition. They are useful for solving problems that can be broken down into smaller, similar subproblems.\n",
    "\n",
    "```python\n",
    "def recursive_function(parameters):\n",
    "    # Base case\n",
    "    if condition:\n",
    "        return value\n",
    "    else:\n",
    "        # Recursive call\n",
    "        recursive_function(new_parameters)\n"
   ]
  }
 ],
 "metadata": {
  "language_info": {
   "name": "python"
  }
 },
 "nbformat": 4,
 "nbformat_minor": 2
}
