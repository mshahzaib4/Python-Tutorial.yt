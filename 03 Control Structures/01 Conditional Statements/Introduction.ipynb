{
 "cells": [
  {
   "cell_type": "markdown",
   "metadata": {},
   "source": [
    "# **Conditional Statements**"
   ]
  },
  {
   "cell_type": "markdown",
   "metadata": {},
   "source": [
    "### 1. If Statement\n",
    "- The `if` statement is used to execute a block of code only if a specified condition is true. If the condition is false, the block of code inside the `if` statement is skipped.\n",
    "\n",
    "**Syntax**\n",
    "```python\n",
    "if condition:\n",
    "    # Code to be executed if condition is true\n",
    "```\n",
    "\n",
    "### 2. If-Else Statement\n",
    "- The `if-else` statement executes one block of code if the condition is true, and another block of code if the condition is false.\n",
    "\n",
    "**Syntax**\n",
    "```python\n",
    "if condition:\n",
    "    # Code to be executed if condition is true\n",
    "else:\n",
    "    # Code to be executed if condition is false\n",
    "```\n",
    "\n",
    "### 3. Elif-Else Statement\n",
    "- The `elif-else` statement is used to check multiple conditions and execute a block of code based on the first true condition. An optional `else` block can be executed if none of the conditions are true.\n",
    "\n",
    "**Syntax**\n",
    "```python\n",
    "if condition1:\n",
    "    # Code to be executed if condition1 is true\n",
    "elif condition2:\n",
    "    # Code to be executed if condition2 is true\n",
    "else:\n",
    "    # Code to be executed if none of the conditions are true\n",
    "```"
   ]
  }
 ],
 "metadata": {
  "language_info": {
   "name": "python"
  }
 },
 "nbformat": 4,
 "nbformat_minor": 2
}
