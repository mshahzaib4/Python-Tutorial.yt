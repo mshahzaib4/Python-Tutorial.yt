{
 "cells": [
  {
   "cell_type": "markdown",
   "metadata": {},
   "source": [
    "# **Loop Control Statements**"
   ]
  },
  {
   "cell_type": "markdown",
   "metadata": {},
   "source": [
    "Loop control statements allow you to change the execution flow of loops. There are three main types of loop control statements:\n",
    "\n",
    "1. **Break Statement**:\n",
    "   -The `break` statement is used to exit a loop immediately. It terminates the loop and transfers control to the next statement after the loop.\n",
    "\n",
    "2. **Continue Statement**:\n",
    "   - The `continue` statement skips the remaining code for a particular iteration in the loop and moves on to the next one.\n",
    "\n",
    "3. **Pass Statement**:\n",
    "   - The `pass` statement is a null operation. It is used when a statement is required syntactically but you do not want any command or code to execute."
   ]
  },
  {
   "cell_type": "code",
   "execution_count": 1,
   "metadata": {},
   "outputs": [
    {
     "name": "stdout",
     "output_type": "stream",
     "text": [
      "Current number is: 1\n",
      "Skipping even number: 2\n",
      "Current number is: 3\n",
      "Skipping even number: 4\n",
      "Current number is: 5\n",
      "Skipping even number: 6\n",
      "Found the lucky number 7, breaking out of the loop.\n"
     ]
    }
   ],
   "source": [
    "\n",
    "for i in range(1, 11):\n",
    "    if i % 2 == 0:\n",
    "        print(\"Skipping even number:\", i)\n",
    "        continue\n",
    "    if i == 7:\n",
    "        print(\"Found the lucky number 7, breaking out of the loop.\")\n",
    "        break\n",
    "    print(\"Current number is:\", i)\n"
   ]
  }
 ],
 "metadata": {
  "kernelspec": {
   "display_name": "Python_ML",
   "language": "python",
   "name": "python3"
  },
  "language_info": {
   "codemirror_mode": {
    "name": "ipython",
    "version": 3
   },
   "file_extension": ".py",
   "mimetype": "text/x-python",
   "name": "python",
   "nbconvert_exporter": "python",
   "pygments_lexer": "ipython3",
   "version": "3.12.0"
  }
 },
 "nbformat": 4,
 "nbformat_minor": 2
}
