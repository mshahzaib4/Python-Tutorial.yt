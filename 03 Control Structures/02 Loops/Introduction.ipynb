{
 "cells": [
  {
   "cell_type": "markdown",
   "metadata": {},
   "source": [
    "## **Loops in Python**\n",
    "\n",
    "Loops execute a block of code repeatedly until a condition is true. There are two main types of loops:\n",
    "\n",
    "### 1. `for` Loops\n",
    "\n",
    "A `for` loop is utilized to iterate through a sequence and execute the code block for each element in the sequence.\n",
    "\n",
    "**Syntax**\n",
    "```python\n",
    "for item in sequence:\n",
    "    # Code block to be executed for each item\n",
    "```\n",
    "\n",
    "### 2. `while` Loops\n",
    "\n",
    "A `while` loop is used to repeatedly execute a block of code as long as the given condition is true.\n",
    "\n",
    "**Syntax**\n",
    "```python\n",
    "while condition:\n",
    "    # Code block to be executed while the condition is true\n",
    "```"
   ]
  }
 ],
 "metadata": {
  "language_info": {
   "name": "python"
  }
 },
 "nbformat": 4,
 "nbformat_minor": 2
}
