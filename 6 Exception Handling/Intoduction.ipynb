{
 "cells": [
  {
   "cell_type": "markdown",
   "metadata": {},
   "source": [
    "# **Exception Handling**"
   ]
  },
  {
   "cell_type": "markdown",
   "metadata": {},
   "source": [
    "The `try-except` block in Python is used for exception handling, allowing you to gracefully manage errors that might occur during the execution of your code. Here's how it works:\n",
    "\n",
    "### Syntax:\n",
    "\n",
    "```python\n",
    "try:\n",
    "    # code that may cause an exception\n",
    "except SomeException:\n",
    "    # code to handle the specific exception\n",
    "except AnotherException:\n",
    "    # code to handle another specific exception\n",
    "except:\n",
    "    # code to handle any other exception\n"
   ]
  }
 ],
 "metadata": {
  "kernelspec": {
   "display_name": "Python_ML",
   "language": "python",
   "name": "python3"
  },
  "language_info": {
   "name": "python",
   "version": "3.12.0"
  }
 },
 "nbformat": 4,
 "nbformat_minor": 2
}
